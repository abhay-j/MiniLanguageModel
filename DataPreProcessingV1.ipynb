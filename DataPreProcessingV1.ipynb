{
 "cells": [
  {
   "cell_type": "markdown",
   "id": "43910398-8bc5-4187-9537-3f533abc51e1",
   "metadata": {},
   "source": [
    "# Now, lets focus on getting our data ready, so we could make embeddings. \n",
    "- Since we are predicting the 'next word' in a sentence. We do not have any default labels.\n",
    "- We will be using our input text to create a label. While creating a dataset, during each iteration, the output for the previous iteration will be a part of the input in our current iteration.\n",
    "- We will use a sliding-window approach to achive this. "
   ]
  },
  {
   "cell_type": "code",
   "execution_count": 83,
   "id": "3277f7e2-d63a-4be1-9844-1bd2b24fbaa6",
   "metadata": {},
   "outputs": [],
   "source": [
    "import tiktoken \n"
   ]
  },
  {
   "cell_type": "code",
   "execution_count": 84,
   "id": "0ebdf9b9-988d-4bcc-b93a-33253912df95",
   "metadata": {},
   "outputs": [],
   "source": [
    "tokenizer = tiktoken.get_encoding(\"gpt2\")"
   ]
  },
  {
   "cell_type": "code",
   "execution_count": 85,
   "id": "2b81ea9a-6e5f-43bc-9973-a0285a319064",
   "metadata": {},
   "outputs": [
    {
     "name": "stdout",
     "output_type": "stream",
     "text": [
      "23470\n"
     ]
    }
   ],
   "source": [
    "with open('dprpht.txt', 'r', encoding='utf-8') as f:\n",
    "    raw_data = f.read()\n",
    "token_ids = tokenizer.encode(raw_data)\n",
    "print(len(token_ids))"
   ]
  },
  {
   "cell_type": "code",
   "execution_count": 86,
   "id": "9a5bd208-db02-4d34-8564-d0a1ddce247d",
   "metadata": {},
   "outputs": [],
   "source": [
    "sample_enc = token_ids[50:]\n",
    "# we will just skip first 50 tokenIds (this is just to remove the unnecessary data at the top of the file)"
   ]
  },
  {
   "cell_type": "markdown",
   "id": "45fd0730-af84-4c85-bb2c-d902fa7e2534",
   "metadata": {},
   "source": [
    "### Lets, see an example to see how we create inputs and output labels. \n",
    "- context_len is just the number of tokens we will see at a time.\n",
    "- lets take context_len = 4, for example. "
   ]
  },
  {
   "cell_type": "code",
   "execution_count": 87,
   "id": "ba0234a7-7ec0-4cfb-a874-d9f58c597e5e",
   "metadata": {},
   "outputs": [
    {
     "name": "stdout",
     "output_type": "stream",
     "text": [
      "[743, 4866, 340, 11]\n",
      "   [4866, 340, 11, 1577]\n"
     ]
    }
   ],
   "source": [
    "context_len = 4 \n",
    "x = sample_enc[:context_len]     #input text\n",
    "y = sample_enc[1:context_len+1]  #corresponding output labels. In the \n",
    "print(f\"{x}\")\n",
    "print(f\"   {y}\")"
   ]
  },
  {
   "cell_type": "code",
   "execution_count": 88,
   "id": "fe97ed92-dada-4418-bc49-7e568914635a",
   "metadata": {},
   "outputs": [
    {
     "name": "stdout",
     "output_type": "stream",
     "text": [
      "[743] ----> 4866\n",
      "[743, 4866] ----> 340\n",
      "[743, 4866, 340] ----> 11\n",
      "[743, 4866, 340, 11] ----> 1577\n"
     ]
    }
   ],
   "source": [
    "for i in range(1, context_len+1):\n",
    "    context = sample_enc[:i]\n",
    "    desired = sample_enc[i]\n",
    "    print(context, \"---->\", desired)"
   ]
  },
  {
   "cell_type": "code",
   "execution_count": 89,
   "id": "4ded6aeb-7983-4432-b796-75a887bb6efb",
   "metadata": {},
   "outputs": [
    {
     "name": "stdout",
     "output_type": "stream",
     "text": [
      " may ---->  copy\n",
      " may copy ---->  it\n",
      " may copy it ----> ,\n",
      " may copy it, ---->  give\n"
     ]
    }
   ],
   "source": [
    "for i in range(1, context_len+1):\n",
    "    context = sample_enc[:i]\n",
    "    desired = sample_enc[i]\n",
    "    print(tokenizer.decode(context), \"---->\", tokenizer.decode([desired]))"
   ]
  },
  {
   "cell_type": "markdown",
   "id": "4175ac6b-9920-4c1c-8387-d14478f3cc97",
   "metadata": {},
   "source": [
    "### Now that we know how our inputs and labels look, lets create a Dataset and a DataLoader using PyTorch\n",
    "- A custom Dataset class must implement three functions: \\__init\\_\\_, \\__len\\_\\_ , and \\__getitem\\_\\_."
   ]
  },
  {
   "cell_type": "code",
   "execution_count": 90,
   "id": "9e459d22-7107-4514-8d34-57b4bc86a0f9",
   "metadata": {},
   "outputs": [],
   "source": [
    "import torch\n",
    "from torch.utils.data import Dataset, DataLoader"
   ]
  },
  {
   "cell_type": "code",
   "execution_count": 91,
   "id": "68101839-f28b-4174-9658-52700cfe293a",
   "metadata": {},
   "outputs": [],
   "source": [
    "#Implementing a custom Dataset Class\n",
    "class GPTDatasetV1(Dataset):\n",
    "    def __init__(self, text, tokenizer, max_length, stride):\n",
    "        # text : The document we want to use to create our dataset\n",
    "        # tokenizer : BPE tokenizer that we imported from tiktoken\n",
    "        # max_length : Context length (no. of token our model can see)\n",
    "        # stride : The number of units our next input should be ahead of our current input \n",
    "        self.input_ids = []\n",
    "        self.output_ids = []\n",
    "\n",
    "        token_ids = tokenizer.encode(text, allowed_special={\"<|endoftext|>\"})\n",
    "        vocab_size = tokenizer.n_vocab\n",
    "        print(f\"vocab_size: {vocab_size}\")\n",
    "        for i in range(0, len(token_ids) - max_length, stride):\n",
    "            input_chunk = token_ids[i: i+max_length]\n",
    "            output_chunk = token_ids[i+1: i+max_length+1]\n",
    "            self.input_ids.append(torch.tensor(input_chunk))\n",
    "            self.output_ids.append(torch.tensor(output_chunk))\n",
    "\n",
    "    def __len__(self):\n",
    "        return len(self.input_ids)\n",
    "\n",
    "    def __getitem__(self, idx):\n",
    "        return self.input_ids[idx], self.output_ids[idx]\n",
    "        \n",
    "        "
   ]
  },
  {
   "cell_type": "markdown",
   "id": "556f47ad-e7a2-4fcd-a4a6-ec2e410fc08b",
   "metadata": {},
   "source": [
    "### At the heart of PyTorch data loading utility is the torch.utils.data.DataLoader class. It represents a Python iterable over a dataset, with support for\n",
    "\n",
    "- map-style and iterable-style datasets,\n",
    "- customizing data loading order,\n",
    "- automatic batching,\n",
    "- single- and multi-process data loading,\n",
    "- automatic memory pinning.\n",
    "- These options are configured by the constructor arguments of a DataLoader, which has signature:\n",
    "```\n",
    "DataLoader(dataset, batch_size=1, shuffle=False, sampler=None,\n",
    "           batch_sampler=None, num_workers=0, collate_fn=None,\n",
    "           pin_memory=False, drop_last=False, timeout=0,\n",
    "           worker_init_fn=None, *, prefetch_factor=2,\n",
    "           persistent_workers=False)\n",
    "```"
   ]
  },
  {
   "cell_type": "code",
   "execution_count": 92,
   "id": "8d3bdbd9-7dce-4c27-8195-11c2d84e843d",
   "metadata": {},
   "outputs": [],
   "source": [
    "def create_dataloader_v1(text, batch_size=4, max_length=256, stride=128, shuffle=True, drop_last=True, num_workers=0):\n",
    "    #initialize tokenizer \n",
    "    tokenizer = tiktoken.get_encoding(\"gpt2\")\n",
    "    #create Dataset\n",
    "    dataset = GPTDatasetV1(text, tokenizer, max_length, stride)\n",
    "    dataloader = DataLoader(dataset, batch_size=batch_size, shuffle=shuffle, drop_last=drop_last, num_workers=num_workers) \n",
    "    return dataloader"
   ]
  },
  {
   "cell_type": "code",
   "execution_count": 93,
   "id": "130a793c-0bb4-4dee-9c98-b6df67d5ba4c",
   "metadata": {},
   "outputs": [],
   "source": [
    "start_marker = \"*** START OF THE PROJECT GUTENBERG EBOOK THE PROPHET ***\"\n",
    "end_marker = \"*** END OF THE PROJECT GUTENBERG EBOOK THE PROPHET ***\"\n",
    "\n",
    "start_idx = raw_data.find(start_marker)\n",
    "end_idx = raw_data.find(end_marker)\n",
    "\n",
    "if start_idx == -1 or end_idx == -1:\n",
    "    raise ValueError(\"Start or end index not found\")\n",
    "   \n",
    "# Slice the content between markers\n",
    "trimmed_raw_data = raw_data[start_idx + len(start_marker):end_idx]\n"
   ]
  },
  {
   "cell_type": "code",
   "execution_count": 94,
   "id": "788dd1e9-100d-4c1d-9d08-b49f35ce4894",
   "metadata": {},
   "outputs": [
    {
     "name": "stdout",
     "output_type": "stream",
     "text": [
      "vocab_size: 50257\n"
     ]
    }
   ],
   "source": [
    "dataloader = create_dataloader_v1(trimmed_raw_data, batch_size=1, max_length=4, stride=1, shuffle=False)\n",
    "data_iter = iter(dataloader)\n",
    "first_batch = next(data_iter)"
   ]
  },
  {
   "cell_type": "code",
   "execution_count": 95,
   "id": "912fb4aa-1a9a-4478-bd45-2ef722f230ac",
   "metadata": {},
   "outputs": [
    {
     "name": "stdout",
     "output_type": "stream",
     "text": [
      "[tensor([[  628,   628,   198, 10970]]), tensor([[  628,   198, 10970,  4810]])]\n"
     ]
    }
   ],
   "source": [
    "print(first_batch)"
   ]
  },
  {
   "cell_type": "code",
   "execution_count": 96,
   "id": "b469ee49-9cb2-4172-b226-f21023ae1b57",
   "metadata": {},
   "outputs": [],
   "source": [
    "second_batch = next(data_iter)"
   ]
  },
  {
   "cell_type": "code",
   "execution_count": 97,
   "id": "dac5d009-9de5-4e49-b71e-9f69766127cf",
   "metadata": {},
   "outputs": [
    {
     "data": {
      "text/plain": [
       "[tensor([[  628,   198, 10970,  4810]]),\n",
       " tensor([[  198, 10970,  4810,  3185]])]"
      ]
     },
     "execution_count": 97,
     "metadata": {},
     "output_type": "execute_result"
    }
   ],
   "source": [
    "second_batch"
   ]
  },
  {
   "cell_type": "code",
   "execution_count": 98,
   "id": "ef1993fd-546f-44ee-ace1-d99d1ea93e22",
   "metadata": {},
   "outputs": [
    {
     "name": "stdout",
     "output_type": "stream",
     "text": [
      "vocab_size: 50257\n",
      "Inputs:\n",
      " tensor([[  628,   628,   198, 10970],\n",
      "        [ 4810,  3185,    39,  2767],\n",
      "        [  198,   198,  3886,   509],\n",
      "        [15668,   346, 12488,  2596],\n",
      "        [  198,   198,  3791,  1971],\n",
      "        [   25, 22044,   317,    13],\n",
      "        [ 6102,   404,    69,   198],\n",
      "        [  198,  1129,  1954,   198]])\n",
      "\n",
      "Targets:\n",
      " tensor([[  628,   198, 10970,  4810],\n",
      "        [ 3185,    39,  2767,   198],\n",
      "        [  198,  3886,   509, 15668],\n",
      "        [  346, 12488,  2596,   198],\n",
      "        [  198,  3791,  1971,    25],\n",
      "        [22044,   317,    13,  6102],\n",
      "        [  404,    69,   198,   198],\n",
      "        [ 1129,  1954,   198,   198]])\n"
     ]
    }
   ],
   "source": [
    "dataloader = create_dataloader_v1(trimmed_raw_data, batch_size=8, max_length=4, stride=4, shuffle=False)\n",
    "data_iter = iter(dataloader)\n",
    "inputs, targets = next(data_iter)\n",
    "print(\"Inputs:\\n\", inputs)\n",
    "print(\"\\nTargets:\\n\", targets)"
   ]
  },
  {
   "cell_type": "markdown",
   "id": "85ae3871-cdd5-487e-a48f-364977d202c4",
   "metadata": {},
   "source": [
    "Let's illustrate how the token ID to embedding vector conversion works with a hands-on example. Suppose we have the following four input tokens with IDs 2, 3, 5, and 1:\n"
   ]
  },
  {
   "cell_type": "code",
   "execution_count": 99,
   "id": "4dd6ec32-c8d3-4deb-8acb-4ada9313a222",
   "metadata": {},
   "outputs": [],
   "source": [
    "input_ids = torch.tensor([2,3,5,1])\n"
   ]
  },
  {
   "cell_type": "markdown",
   "id": "b4588897-2c63-435b-9ef8-2ec38de90a8d",
   "metadata": {},
   "source": [
    "For the sake of simplicity and illustration purposes, suppose we have a small vocabulary of only 6 words (instead of the 50,257 words in the BPE tokenizer vocabulary), and we want to create embeddings of size 3 (in GPT-3, the embedding size is 12,288 dimensions):\n",
    "\n",
    "Using the vocab_size and output_dim, we can instantiate an embedding layer in PyTorch, setting the random seed to 123 for reproducibility purposes:"
   ]
  },
  {
   "cell_type": "code",
   "execution_count": 100,
   "id": "9e079f7d-cdbb-4c4c-b323-7fefdcd3f175",
   "metadata": {},
   "outputs": [
    {
     "data": {
      "text/plain": [
       "Embedding(6, 3)"
      ]
     },
     "execution_count": 100,
     "metadata": {},
     "output_type": "execute_result"
    }
   ],
   "source": [
    "vocab_size = 6 \n",
    "ndim  = 3\n",
    "torch.manual_seed(123)\n",
    "embedding_layer = torch.nn.Embedding(vocab_size, ndim)\n",
    "embedding_layer"
   ]
  },
  {
   "cell_type": "code",
   "execution_count": 101,
   "id": "3f313328-3aa2-47d7-8a7e-77a2c3a2ebeb",
   "metadata": {},
   "outputs": [
    {
     "name": "stdout",
     "output_type": "stream",
     "text": [
      "Parameter containing:\n",
      "tensor([[ 0.3374, -0.1778, -0.1690],\n",
      "        [ 0.9178,  1.5810,  1.3010],\n",
      "        [ 1.2753, -0.2010, -0.1606],\n",
      "        [-0.4015,  0.9666, -1.1481],\n",
      "        [-1.1589,  0.3255, -0.6315],\n",
      "        [-2.8400, -0.7849, -1.4096]], requires_grad=True)\n"
     ]
    }
   ],
   "source": [
    "print(embedding_layer.weight)"
   ]
  },
  {
   "cell_type": "markdown",
   "id": "2dae9505-ded4-43c6-b39a-f64bd44ae5ff",
   "metadata": {},
   "source": [
    "After we instantiated the embedding layer, let's now apply it to a token ID to obtain the\n",
    "embedding vector:\n"
   ]
  },
  {
   "cell_type": "code",
   "execution_count": 102,
   "id": "b7828460-2ca8-48b2-af76-456020ce0398",
   "metadata": {},
   "outputs": [
    {
     "name": "stdout",
     "output_type": "stream",
     "text": [
      "tensor([[-0.4015,  0.9666, -1.1481]], grad_fn=<EmbeddingBackward0>)\n"
     ]
    }
   ],
   "source": [
    "print(embedding_layer(torch.tensor([3])))"
   ]
  },
  {
   "cell_type": "code",
   "execution_count": 103,
   "id": "753e4678-7f22-4d00-b7b8-bc3f714573c5",
   "metadata": {},
   "outputs": [
    {
     "name": "stdout",
     "output_type": "stream",
     "text": [
      "tensor([[ 1.2753, -0.2010, -0.1606],\n",
      "        [-0.4015,  0.9666, -1.1481],\n",
      "        [-2.8400, -0.7849, -1.4096],\n",
      "        [ 0.9178,  1.5810,  1.3010]], grad_fn=<EmbeddingBackward0>)\n"
     ]
    },
    {
     "name": "stderr",
     "output_type": "stream",
     "text": [
      "/var/folders/64/_jgz4l191qvct7dgtf2wljyr0000gn/T/ipykernel_86972/3846183200.py:1: UserWarning: To copy construct from a tensor, it is recommended to use sourceTensor.clone().detach() or sourceTensor.clone().detach().requires_grad_(True), rather than torch.tensor(sourceTensor).\n",
      "  print(embedding_layer(torch.tensor(input_ids)))\n"
     ]
    }
   ],
   "source": [
    "print(embedding_layer(torch.tensor(input_ids)))"
   ]
  },
  {
   "cell_type": "code",
   "execution_count": 107,
   "id": "3a9b603f-0ba8-49ee-9162-bf67d93387af",
   "metadata": {},
   "outputs": [
    {
     "name": "stdout",
     "output_type": "stream",
     "text": [
      "vocab_size: 50257\n",
      "Token IDs:\n",
      " tensor([[  628,   628,   198, 10970],\n",
      "        [ 4810,  3185,    39,  2767],\n",
      "        [  198,   198,  3886,   509],\n",
      "        [15668,   346, 12488,  2596],\n",
      "        [  198,   198,  3791,  1971],\n",
      "        [   25, 22044,   317,    13],\n",
      "        [ 6102,   404,    69,   198],\n",
      "        [  198,  1129,  1954,   198]])\n",
      "\n",
      "Inputs shape:\n",
      " torch.Size([8, 4])\n"
     ]
    }
   ],
   "source": [
    "max_length = 4\n",
    "dataloader = create_dataloader_v1(trimmed_raw_data, batch_size=8, max_length=max_length, stride=max_length, shuffle=False)\n",
    "data_iter = iter(dataloader)\n",
    "inputs, labels = next(data_iter)\n",
    "print(\"Token IDs:\\n\", inputs)\n",
    "print(\"\\nInputs shape:\\n\", inputs.shape)"
   ]
  },
  {
   "cell_type": "code",
   "execution_count": 108,
   "id": "bc6c1b40-808c-40cc-a100-2b12df6e057b",
   "metadata": {},
   "outputs": [
    {
     "name": "stdout",
     "output_type": "stream",
     "text": [
      "tensor([[ 0.7481, -1.0844,  0.8362,  ..., -0.1661,  0.0175, -0.7167],\n",
      "        [-0.1840,  0.7819, -0.0508,  ..., -0.0145, -0.5577, -0.6014],\n",
      "        [ 0.9606, -0.3260, -1.4057,  ...,  0.7417, -0.1273,  0.2401],\n",
      "        [ 1.2456,  0.7682, -0.3834,  ...,  0.5522,  0.2447,  0.7976]],\n",
      "       grad_fn=<SliceBackward0>)\n"
     ]
    }
   ],
   "source": [
    "#lets create embeddings layer weight matrix for our original dataset and add positional embedding those embeddings. \n",
    "vocab_size = 50257\n",
    "ndim = 256 \n",
    "token_embedding_layer = torch.nn.Embedding(vocab_size, ndim)\n",
    "print(token_embedding_layer.weight[:4])"
   ]
  },
  {
   "cell_type": "code",
   "execution_count": 109,
   "id": "3077ef05-9777-49cf-9e94-7439c5eaf8d4",
   "metadata": {},
   "outputs": [
    {
     "name": "stdout",
     "output_type": "stream",
     "text": [
      "torch.Size([8, 4, 256])\n"
     ]
    }
   ],
   "source": [
    "#lets create embeddings for each input token \n",
    "token_embeddings = token_embedding_layer(inputs)\n",
    "print(token_embeddings.shape)"
   ]
  },
  {
   "cell_type": "code",
   "execution_count": 112,
   "id": "7a2b9119-c33e-4efe-899d-68e89ec89990",
   "metadata": {},
   "outputs": [
    {
     "name": "stdout",
     "output_type": "stream",
     "text": [
      "torch.Size([4, 256])\n"
     ]
    }
   ],
   "source": [
    "# now lets create positional embeddings to add to each token (4 x 256). \n",
    "context_length = max_length \n",
    "pos_embedding_layer = torch.nn.Embedding(context_length, ndim) \n",
    "print(pos_embedding_layer.weight.shape)"
   ]
  },
  {
   "cell_type": "code",
   "execution_count": 113,
   "id": "abdbb9f9-def6-4aea-a086-240b2b107ad0",
   "metadata": {},
   "outputs": [
    {
     "name": "stdout",
     "output_type": "stream",
     "text": [
      "torch.Size([4, 256])\n"
     ]
    }
   ],
   "source": [
    "# we have 4 positions (4 is the length of our context) so lets create embedding for each position\n",
    "pos_embeddings = pos_embedding_layer(torch.arange(max_length))\n",
    "print(pos_embeddings.shape)"
   ]
  },
  {
   "cell_type": "code",
   "execution_count": 114,
   "id": "c77e69aa-4d45-46c6-be84-17311b837468",
   "metadata": {},
   "outputs": [
    {
     "name": "stdout",
     "output_type": "stream",
     "text": [
      "torch.Size([8, 4, 256])\n"
     ]
    }
   ],
   "source": [
    "#Now lets add posistional embeddings to token embeddings\n",
    "input_embeddings = token_embeddings + pos_embeddings\n",
    "print(input_embeddings.shape)"
   ]
  },
  {
   "cell_type": "code",
   "execution_count": null,
   "id": "871782f9-1567-42cc-b692-99f844e2df46",
   "metadata": {},
   "outputs": [],
   "source": []
  }
 ],
 "metadata": {
  "kernelspec": {
   "display_name": "Python 3 (ipykernel)",
   "language": "python",
   "name": "python3"
  },
  "language_info": {
   "codemirror_mode": {
    "name": "ipython",
    "version": 3
   },
   "file_extension": ".py",
   "mimetype": "text/x-python",
   "name": "python",
   "nbconvert_exporter": "python",
   "pygments_lexer": "ipython3",
   "version": "3.12.9"
  }
 },
 "nbformat": 4,
 "nbformat_minor": 5
}
