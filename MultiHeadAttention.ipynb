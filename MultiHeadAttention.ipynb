{
 "cells": [
  {
   "cell_type": "code",
   "execution_count": 3,
   "id": "8cca792b-8124-4555-9ae7-359823c96ff6",
   "metadata": {},
   "outputs": [],
   "source": [
    "import torch \n",
    "import torch.nn as nn \n",
    "class CausalAttention(nn.Module):\n",
    "    def __init__(self, dim_in, dim_out, context_length, dropout, qkv_bias=False):\n",
    "        super().__init__()\n",
    "        self.W_query = nn.Linear(dim_in, dim_out, bias=qkv_bias)\n",
    "        self.W_key = nn.Linear(dim_in, dim_out, bias=qkv_bias)\n",
    "        self.W_value = nn.Linear(dim_in, dim_out, bias=qkv_bias)\n",
    "        self.dropout = torch.nn.Dropout(dropout)\n",
    "        self.register_buffer('mask', torch.triu(torch.ones(context_length, context_length), diagonal=1))\n",
    "\n",
    "    def forward(self, x):\n",
    "        b, num_tokens, _ = x.shape\n",
    "        queries = self.W_query(x)\n",
    "        keys = self.W_key(x)\n",
    "        values = self.W_value(x)\n",
    "\n",
    "        attention_scores = queries @ keys.transpose(1,2) \n",
    "        masked_scores = attention_scores.masked_fill_(self.mask.bool()[:num_tokens, :num_tokens], -torch.inf)\n",
    "        attention_weights = torch.softmax(masked_scores/keys.shape[-1] ** 0.5, dim=-1)\n",
    "        attention_weights = self.dropout(attention_weights)\n",
    "\n",
    "        context_vec = attention_weights @ values\n",
    "        return context_vec\n",
    "        "
   ]
  },
  {
   "cell_type": "code",
   "execution_count": 4,
   "id": "132873ae-79fe-432d-9bf8-cb43c5679ae5",
   "metadata": {},
   "outputs": [],
   "source": [
    "class MultiHeadAttentionWrapper(nn.Module):\n",
    "    def __init__(self,  dim_in, dim_out, context_length, dropout, num_heads, qkv_bias=False):\n",
    "        super().__init__()\n",
    "        self.heads = [CausalAttention(dim_in, dim_out, context_length, dropout, qkv_bias) for _ in range(num_heads)]\n",
    "\n",
    "    def forward(self, x):\n",
    "        return torch.cat( [head(x) for head in self.heads], dim = -1)\n",
    "        "
   ]
  },
  {
   "cell_type": "code",
   "execution_count": 5,
   "id": "8e1892b3-9bd1-4f37-b758-32cb4e979e2c",
   "metadata": {},
   "outputs": [],
   "source": [
    "inputs = torch.tensor(\n",
    "  [[0.43, 0.15, 0.89], # Your     (x^1)\n",
    "   [0.55, 0.87, 0.66], # journey  (x^2)\n",
    "   [0.57, 0.85, 0.64], # starts   (x^3)\n",
    "   [0.22, 0.58, 0.33], # with     (x^4)\n",
    "   [0.77, 0.25, 0.10], # one      (x^5)\n",
    "   [0.05, 0.80, 0.55]] # step     (x^6)\n",
    ")"
   ]
  },
  {
   "cell_type": "code",
   "execution_count": 6,
   "id": "31b803fc-3744-4553-be9c-d2ca86484086",
   "metadata": {},
   "outputs": [
    {
     "data": {
      "text/plain": [
       "torch.Size([2, 6, 3])"
      ]
     },
     "execution_count": 6,
     "metadata": {},
     "output_type": "execute_result"
    }
   ],
   "source": [
    "batch = torch.stack((inputs, inputs), dim=0)\n",
    "batch.shape"
   ]
  },
  {
   "cell_type": "code",
   "execution_count": 7,
   "id": "96bfcbb2-d38e-4cc2-9491-af3affa4b2d4",
   "metadata": {},
   "outputs": [
    {
     "name": "stdout",
     "output_type": "stream",
     "text": [
      "tensor([[[-0.3760,  0.0589, -0.1819, -0.4972],\n",
      "         [-0.3896,  0.1173, -0.2070, -0.5986],\n",
      "         [-0.3924,  0.1363, -0.2164, -0.6300],\n",
      "         [-0.3464,  0.1285, -0.1885, -0.5650],\n",
      "         [-0.3144,  0.1223, -0.1980, -0.5347],\n",
      "         [-0.3086,  0.1230, -0.1774, -0.5195]],\n",
      "\n",
      "        [[-0.3760,  0.0589, -0.1819, -0.4972],\n",
      "         [-0.3896,  0.1173, -0.2070, -0.5986],\n",
      "         [-0.3924,  0.1363, -0.2164, -0.6300],\n",
      "         [-0.3464,  0.1285, -0.1885, -0.5650],\n",
      "         [-0.3144,  0.1223, -0.1980, -0.5347],\n",
      "         [-0.3086,  0.1230, -0.1774, -0.5195]]], grad_fn=<CatBackward0>)\n"
     ]
    }
   ],
   "source": [
    "context_len = batch.shape[1]\n",
    "dim_in = 3 \n",
    "dim_out = 2\n",
    "mha = MultiHeadAttentionWrapper(dim_in, dim_out, context_len, 0.0, num_heads=2)\n",
    "context_vecs = mha(batch)\n",
    "print(context_vecs)"
   ]
  },
  {
   "cell_type": "markdown",
   "id": "46abcba3-df03-4d15-81c7-2e3382e0ceda",
   "metadata": {},
   "source": [
    "### Implementing MultiHeadAttention with weight splits. "
   ]
  },
  {
   "cell_type": "code",
   "execution_count": 22,
   "id": "de2c2044-8c78-40b5-adb2-ab01b1288519",
   "metadata": {},
   "outputs": [],
   "source": [
    "class MultiHeadAttention(nn.Module):\n",
    "    def __init__(self, d_in, d_out, context_len, dropout, num_heads, qkv_bias=False):\n",
    "        super().__init__()\n",
    "        assert(d_out % num_heads == 0), \\\n",
    "             \"d_out must be divisible by num_heads\"\n",
    "        self.d_out = d_out\n",
    "        self.num_heads = num_heads\n",
    "        self.head_dim = self.d_out//self.num_heads\n",
    "\n",
    "        self.W_key = nn.Linear(d_in, d_out, bias=qkv_bias)\n",
    "        self.W_query = nn.Linear(d_in, d_out, bias=qkv_bias)\n",
    "        self.W_value = nn.Linear(d_in, d_out, bias=qkv_bias)\n",
    "        self.out_proj = nn.Linear(d_out, d_out) # Linear layer to combine head outputs\n",
    "        self.dropout = nn.Dropout(dropout)\n",
    "        self.register_buffer('mask', torch.triu(torch.ones(context_length, context_length), diagonal=1))\n",
    "\n",
    "    def forward(self, x):\n",
    "        b, num_tokens, d_in = x.shape\n",
    "        keys = self.W_key(x)\n",
    "        queries = self.W_query(x)\n",
    "        values = self.W_value(x) # (b, num_tokens, d_out)\n",
    "\n",
    "        #now d_out dim will be rolledout into num_heads, head_dim\n",
    "        keys = keys.view(b, num_tokens, self.num_heads, self.head_dim)\n",
    "        values = values.view(b, num_tokens, self.num_heads, self.head_dim)\n",
    "        queries = queries.view(b, num_tokens, self.num_heads, self.head_dim)\n",
    "\n",
    "        #Currenlty this is how these matrices look : (b, num_tokens, num_heads, head_dim). \n",
    "        #Going ahead we will have to switch num_heads <-> num_token, (Group by num_heads) -> (b, num_heads, num_tokens, head_dim)\n",
    "        keys = keys.transpose(1,2)\n",
    "        queries = queries.transpose(1,2)\n",
    "        values = values.transpose(1,2)\n",
    "        #next step : Finding the attention scores\n",
    "        attention_scores = queries @ keys.transpose(2,3)\n",
    "        #next step: calculating attention weights.\n",
    "        # - apply the mask , divide be sqrt(head_dim), apply softmax\n",
    "        mask_bool = self.mask.bool()[:num_tokens, :num_tokens]\n",
    "        attention_scores.masked_fill_(mask_bool, -torch.inf)\n",
    "        attention_weights = torch.softmax(attention_scores / keys.shape[-1] ** 0.5, dim =-1)\n",
    "        # apply droputs\n",
    "        attention_weights = self.dropout(attention_weights)\n",
    "        # shape of the attention weights (b, num_heads, num_tokens, num_tokens)\n",
    "        # to find the context_vectors we will multiply attention_scores with values matrx (b, num_heads, num_tokens, head_dim)\n",
    "        # so the output wouldbe (b, num_heads, num_tokens, head_dim).\n",
    "        # we will also swap back the num_heads with num_tokens -> (b, num_tokens, num_heads, head_dim)\n",
    "        context_vectors = (attention_weights @ values).transpose(1,2)\n",
    "\n",
    "        # now its time to roll back in the num_heads and head_dim into d_out. \n",
    "        context_vectors = context_vectors.contiguous().view(b, num_tokens, self.d_out)\n",
    "        context_vectors = self.out_proj(context_vectors)\n",
    "\n",
    "        return context_vectors\n",
    "            "
   ]
  },
  {
   "cell_type": "code",
   "execution_count": 23,
   "id": "d4ca309b-5a1c-4452-89a8-51aae8c4fcc2",
   "metadata": {},
   "outputs": [
    {
     "name": "stdout",
     "output_type": "stream",
     "text": [
      "torch.Size([2, 3, 6])\n",
      "tensor([[[ 0.1569, -0.0873,  0.0210,  0.0215, -0.3243, -0.2518],\n",
      "         [ 0.1125, -0.0561,  0.0454, -0.0234, -0.3247, -0.3030],\n",
      "         [ 0.1194, -0.0501,  0.0347, -0.0637, -0.2797, -0.2612]],\n",
      "\n",
      "        [[ 0.1569, -0.0873,  0.0210,  0.0215, -0.3243, -0.2518],\n",
      "         [ 0.1125, -0.0561,  0.0454, -0.0234, -0.3247, -0.3030],\n",
      "         [ 0.1194, -0.0501,  0.0347, -0.0637, -0.2797, -0.2612]]],\n",
      "       grad_fn=<ViewBackward0>)\n",
      "context_vecs.shape: torch.Size([2, 3, 6])\n"
     ]
    }
   ],
   "source": [
    "torch.manual_seed(123)\n",
    "\n",
    "# Define the tensor with 3 rows and 6 columns\n",
    "inputs = torch.tensor(\n",
    "    [[0.43, 0.15, 0.89, 0.55, 0.87, 0.66],  # Row 1\n",
    "     [0.57, 0.85, 0.64, 0.22, 0.58, 0.33],  # Row 2\n",
    "     [0.77, 0.25, 0.10, 0.05, 0.80, 0.55]]  # Row 3\n",
    ")\n",
    "\n",
    "batch = torch.stack((inputs, inputs), dim=0)\n",
    "print(batch.shape) \n",
    "\n",
    "batch_size, context_length, d_in = batch.shape\n",
    "d_out = 6\n",
    "mha = MultiHeadAttention(d_in, d_out, context_length, 0.0, num_heads=2)\n",
    "context_vecs = mha(batch)\n",
    "print(context_vecs)\n",
    "print(\"context_vecs.shape:\", context_vecs.shape)"
   ]
  },
  {
   "cell_type": "code",
   "execution_count": null,
   "id": "8df60dea-0a62-4a49-b22c-dbc17728b91a",
   "metadata": {},
   "outputs": [],
   "source": []
  }
 ],
 "metadata": {
  "kernelspec": {
   "display_name": "Python 3 (ipykernel)",
   "language": "python",
   "name": "python3"
  },
  "language_info": {
   "codemirror_mode": {
    "name": "ipython",
    "version": 3
   },
   "file_extension": ".py",
   "mimetype": "text/x-python",
   "name": "python",
   "nbconvert_exporter": "python",
   "pygments_lexer": "ipython3",
   "version": "3.12.9"
  }
 },
 "nbformat": 4,
 "nbformat_minor": 5
}
